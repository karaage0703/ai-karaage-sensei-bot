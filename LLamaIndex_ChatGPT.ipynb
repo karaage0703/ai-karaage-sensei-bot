{
  "cells": [
    {
      "cell_type": "markdown",
      "metadata": {
        "id": "view-in-github",
        "colab_type": "text"
      },
      "source": [
        "<a href=\"https://colab.research.google.com/github/karaage0703/ai-karaage-sensei-bot/blob/main/LLamaIndex_ChatGPT.ipynb\" target=\"_parent\"><img src=\"https://colab.research.google.com/assets/colab-badge.svg\" alt=\"Open In Colab\"/></a>"
      ]
    },
    {
      "cell_type": "markdown",
      "metadata": {
        "id": "9uLXIfiI4D3w"
      },
      "source": [
        "# LLamaIndex\n",
        "\n",
        "- https://note.com/npaka/n/n496e9af9d215"
      ]
    },
    {
      "cell_type": "markdown",
      "metadata": {
        "id": "eCaAVjQF4R7E"
      },
      "source": [
        "インストール"
      ]
    },
    {
      "cell_type": "code",
      "execution_count": null,
      "metadata": {
        "id": "sMOG2NZz4BJL"
      },
      "outputs": [],
      "source": [
        "!pip install -qq llama-index==0.7"
      ]
    },
    {
      "cell_type": "markdown",
      "metadata": {
        "id": "AFsRfyQa4YGT"
      },
      "source": [
        "Open AI API"
      ]
    },
    {
      "cell_type": "code",
      "execution_count": null,
      "metadata": {
        "id": "6W_RbQKG4P4J"
      },
      "outputs": [],
      "source": [
        "import os\n",
        "os.environ[\"OPENAI_API_KEY\"] = \"<open_ai_api_key>\""
      ]
    },
    {
      "cell_type": "markdown",
      "metadata": {
        "id": "QegAPYM34hWn"
      },
      "source": [
        "ログレベルの設定"
      ]
    },
    {
      "cell_type": "code",
      "execution_count": null,
      "metadata": {
        "id": "b5u1tYyD4ejo"
      },
      "outputs": [],
      "source": [
        "import logging\n",
        "import sys\n",
        "\n",
        "logging.basicConfig(stream=sys.stdout, level=logging.DEBUG, force=True)"
      ]
    },
    {
      "cell_type": "markdown",
      "metadata": {
        "id": "G-KJpfxF41wb"
      },
      "source": [
        "Google Driveとの連携"
      ]
    },
    {
      "cell_type": "code",
      "execution_count": null,
      "metadata": {
        "id": "THK3bKEU4mcV"
      },
      "outputs": [],
      "source": [
        "from google.colab import drive\n",
        "drive.mount('/content/drive')"
      ]
    },
    {
      "cell_type": "markdown",
      "metadata": {
        "id": "OwTaBHEz4374"
      },
      "source": [
        "データコピー"
      ]
    },
    {
      "cell_type": "code",
      "execution_count": null,
      "metadata": {
        "id": "xGaxpQrp45tY"
      },
      "outputs": [],
      "source": [
        "!mkdir data\n",
        "!cp /content/drive/MyDrive/colab_data/analysis_normalized_tweet_1.txt ./data/\n",
        "!cp /content/drive/MyDrive/colab_data/analysis_normalized_tweet_2.txt ./data/\n",
        "!cp /content/drive/MyDrive/colab_data/blog_text.txt ./data/"
      ]
    },
    {
      "cell_type": "markdown",
      "metadata": {
        "id": "zcaDuw385JdS"
      },
      "source": [
        "ドキュメントの読み込み"
      ]
    },
    {
      "cell_type": "code",
      "execution_count": null,
      "metadata": {
        "id": "4_OipCzG5Lgr"
      },
      "outputs": [],
      "source": [
        "from llama_index import SimpleDirectoryReader\n",
        "\n",
        "documents = SimpleDirectoryReader(\"data\").load_data()"
      ]
    },
    {
      "cell_type": "markdown",
      "metadata": {
        "id": "GeaxtUey5Ubh"
      },
      "source": [
        "インデックスの作成"
      ]
    },
    {
      "cell_type": "code",
      "execution_count": null,
      "metadata": {
        "colab": {
          "background_save": true
        },
        "id": "LBenScl95TfI"
      },
      "outputs": [],
      "source": [
        "from llama_index import GPTVectorStoreIndex\n",
        "\n",
        "index = GPTVectorStoreIndex.from_documents(documents)"
      ]
    },
    {
      "cell_type": "markdown",
      "metadata": {
        "id": "e5Vs8h7O5kfn"
      },
      "source": [
        "インデックスの保存"
      ]
    },
    {
      "cell_type": "code",
      "execution_count": null,
      "metadata": {
        "id": "Dq054hH77VBl"
      },
      "outputs": [],
      "source": [
        "index.storage_context.persist()"
      ]
    },
    {
      "cell_type": "markdown",
      "metadata": {
        "id": "344GMUBY7etm"
      },
      "source": [
        "Google Driveへの移動"
      ]
    },
    {
      "cell_type": "code",
      "source": [
        "!zip -r storage_gptvec.zip storage"
      ],
      "metadata": {
        "id": "j_1WldXBAubz"
      },
      "execution_count": null,
      "outputs": []
    },
    {
      "cell_type": "code",
      "source": [
        "!cp storage_gptvec.zip /content/drive/MyDrive/colab_data/"
      ],
      "metadata": {
        "id": "PzSB2uxmBBnY"
      },
      "execution_count": null,
      "outputs": []
    },
    {
      "cell_type": "markdown",
      "metadata": {
        "id": "WHC-Pf5B5dwq"
      },
      "source": [
        "クエリエンジンの作成"
      ]
    },
    {
      "cell_type": "code",
      "execution_count": null,
      "metadata": {
        "id": "q8_IQ-Wd5X-M"
      },
      "outputs": [],
      "source": [
        "query_engine = index.as_query_engine()"
      ]
    },
    {
      "cell_type": "markdown",
      "metadata": {
        "id": "JLm7Sv_X66Sd"
      },
      "source": [
        "質問応答"
      ]
    },
    {
      "cell_type": "code",
      "execution_count": null,
      "metadata": {
        "id": "S5ACYN1O7b-M"
      },
      "outputs": [],
      "source": [
        "print(query_engine.query(\"からあげにレモンをかけたら死刑ですか？\"))"
      ]
    }
  ],
  "metadata": {
    "colab": {
      "provenance": [],
      "authorship_tag": "ABX9TyNyOuDpnxt1xsGsbrj2SVmU",
      "include_colab_link": true
    },
    "kernelspec": {
      "display_name": "Python 3",
      "name": "python3"
    },
    "language_info": {
      "name": "python"
    }
  },
  "nbformat": 4,
  "nbformat_minor": 0
}