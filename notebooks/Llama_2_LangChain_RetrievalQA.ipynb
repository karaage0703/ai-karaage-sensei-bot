{
  "nbformat": 4,
  "nbformat_minor": 0,
  "metadata": {
    "colab": {
      "provenance": [],
      "machine_shape": "hm",
      "gpuType": "V100",
      "authorship_tag": "ABX9TyPMSf+TTxogpIK2lU5EoDOX",
      "include_colab_link": true
    },
    "kernelspec": {
      "name": "python3",
      "display_name": "Python 3"
    },
    "language_info": {
      "name": "python"
    },
    "accelerator": "GPU"
  },
  "cells": [
    {
      "cell_type": "markdown",
      "metadata": {
        "id": "view-in-github",
        "colab_type": "text"
      },
      "source": [
        "<a href=\"https://colab.research.google.com/github/karaage0703/ai-karaage-sensei-bot/blob/main/notebooks/Llama_2_LangChain_RetrievalQA.ipynb\" target=\"_parent\"><img src=\"https://colab.research.google.com/assets/colab-badge.svg\" alt=\"Open In Colab\"/></a>"
      ]
    },
    {
      "cell_type": "markdown",
      "source": [
        "# Llama 2 + LangChain の RetrievalQA\n",
        "\n",
        "以下サイトを参考にNotebook化\n",
        "\n",
        "- https://note.com/npaka/n/n3164e8b24539\n",
        "- https://note.com/npaka/n/n6d33c2181050"
      ],
      "metadata": {
        "id": "8y_897yLn8nP"
      }
    },
    {
      "cell_type": "markdown",
      "source": [
        "ライブラリのインストール"
      ],
      "metadata": {
        "id": "1sbZ98CyoGAw"
      }
    },
    {
      "cell_type": "code",
      "source": [
        "!pip -qq install langchain accelerate bitsandbytes sentence_transformers\n",
        "!pip -qq install faiss-gpu"
      ],
      "metadata": {
        "id": "NDjH2HCdn-sg"
      },
      "execution_count": null,
      "outputs": []
    },
    {
      "cell_type": "markdown",
      "source": [
        "インポート"
      ],
      "metadata": {
        "id": "It4pXPa8oaSY"
      }
    },
    {
      "cell_type": "code",
      "source": [
        "import logging\n",
        "import sys\n",
        "from langchain.chains import RetrievalQA\n",
        "from langchain.embeddings import HuggingFaceEmbeddings\n",
        "from langchain.llms import LlamaCpp\n",
        "from langchain.text_splitter import RecursiveCharacterTextSplitter\n",
        "from langchain.vectorstores.faiss import FAISS\n",
        "from langchain.llms import OpenAIChat"
      ],
      "metadata": {
        "id": "slKDfLhboZJ8"
      },
      "execution_count": null,
      "outputs": []
    },
    {
      "cell_type": "markdown",
      "source": [
        "ログレベル設定"
      ],
      "metadata": {
        "id": "zTwXGYD0fHCh"
      }
    },
    {
      "cell_type": "code",
      "source": [
        "logging.basicConfig(stream=sys.stdout, level=logging.DEBUG, force=True)"
      ],
      "metadata": {
        "id": "SuG2JwERfFxd"
      },
      "execution_count": null,
      "outputs": []
    },
    {
      "cell_type": "markdown",
      "source": [
        "Google Driveとの連携"
      ],
      "metadata": {
        "id": "XfjgRR12o6vA"
      }
    },
    {
      "cell_type": "code",
      "source": [
        "from google.colab import drive\n",
        "drive.mount('/content/drive')"
      ],
      "metadata": {
        "id": "Fauync3Ko6MV"
      },
      "execution_count": null,
      "outputs": []
    },
    {
      "cell_type": "markdown",
      "source": [
        "データコピー"
      ],
      "metadata": {
        "id": "7DMcKZdgpR1w"
      }
    },
    {
      "cell_type": "code",
      "source": [
        "!cp /content/drive/MyDrive/colab_data/analysis_normalized_tweet_1.txt ./\n",
        "!cp /content/drive/MyDrive/colab_data/analysis_normalized_tweet_2.txt ./\n",
        "!cp /content/drive/MyDrive/colab_data/blog_text.txt ./"
      ],
      "metadata": {
        "id": "pIeNwXoLpRZV"
      },
      "execution_count": null,
      "outputs": []
    },
    {
      "cell_type": "markdown",
      "source": [
        "ドキュメントの読み込みとチャンクの分割・確認"
      ],
      "metadata": {
        "id": "KbwwaZluofLK"
      }
    },
    {
      "cell_type": "code",
      "source": [
        "# ドキュメントの読み込み\n",
        "with open(\"analysis_normalized_tweet_1.txt\", encoding=\"utf-8\") as f:\n",
        "    test_all = f.read()\n",
        "\n",
        "print(len(test_all))\n",
        "\n",
        "# ドキュメントの読み込み\n",
        "with open(\"analysis_normalized_tweet_2.txt\", encoding=\"utf-8\") as f:\n",
        "    test_all += f.read()\n",
        "\n",
        "print(len(test_all))\n",
        "\n",
        "# ドキュメントの読み込み\n",
        "with open(\"blog_text.txt\", encoding=\"utf-8\") as f:\n",
        "    test_all += f.read()\n",
        "\n",
        "print(len(test_all))"
      ],
      "metadata": {
        "id": "xUdm21TMpO32"
      },
      "execution_count": null,
      "outputs": []
    },
    {
      "cell_type": "code",
      "source": [
        "# チャンクの分割\n",
        "text_splitter = RecursiveCharacterTextSplitter(\n",
        "    chunk_size=514,\n",
        "    chunk_overlap=20,\n",
        ")\n",
        "texts = text_splitter.split_text(test_all)\n",
        "\n",
        "# チャンクの確認\n",
        "print(len(texts))\n",
        "for text in texts:\n",
        "    print(text[:10].replace(\"\\n\", \"\\\\n\"), \":\", len(text))"
      ],
      "metadata": {
        "id": "kxGI-0waob9E"
      },
      "execution_count": null,
      "outputs": []
    },
    {
      "cell_type": "markdown",
      "source": [
        "インデックスの作成"
      ],
      "metadata": {
        "id": "aemUL6pefqeB"
      }
    },
    {
      "cell_type": "code",
      "source": [
        "index = FAISS.from_texts(\n",
        "    texts=texts,\n",
        "    embedding=HuggingFaceEmbeddings(model_name=\"intfloat/multilingual-e5-large\"),\n",
        ")"
      ],
      "metadata": {
        "id": "hqKRmhm9oeNi"
      },
      "execution_count": null,
      "outputs": []
    },
    {
      "cell_type": "markdown",
      "source": [
        "インデクスのセーブ"
      ],
      "metadata": {
        "id": "yt__M9bhfthR"
      }
    },
    {
      "cell_type": "code",
      "source": [
        "index.save_local('storage')"
      ],
      "metadata": {
        "id": "PlJuoLpifvUw"
      },
      "execution_count": null,
      "outputs": []
    },
    {
      "cell_type": "markdown",
      "source": [
        "データをGoogle ColabからGoogle Driveへ移動"
      ],
      "metadata": {
        "id": "t4BdR-8sfyEl"
      }
    },
    {
      "cell_type": "code",
      "source": [
        "!zip -r storage.zip storage"
      ],
      "metadata": {
        "id": "2XVaA4JTf56J"
      },
      "execution_count": null,
      "outputs": []
    },
    {
      "cell_type": "code",
      "source": [
        "!cp storage.zip /content/drive/MyDrive/colab_data/"
      ],
      "metadata": {
        "id": "p5UiURfEh4_T"
      },
      "execution_count": null,
      "outputs": []
    },
    {
      "cell_type": "markdown",
      "source": [
        "# 参考リンク\n",
        "\n",
        "- https://qiita.com/taka_yayoi/items/c8c612b18ebc9f5cae8c"
      ],
      "metadata": {
        "id": "AKP_pxD2qRgZ"
      }
    }
  ]
}