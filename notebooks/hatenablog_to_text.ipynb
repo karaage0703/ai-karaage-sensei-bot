{
  "nbformat": 4,
  "nbformat_minor": 0,
  "metadata": {
    "colab": {
      "provenance": [],
      "authorship_tag": "ABX9TyMgEESc2mi25+YjYPXjyz1k",
      "include_colab_link": true
    },
    "kernelspec": {
      "name": "python3",
      "display_name": "Python 3"
    },
    "language_info": {
      "name": "python"
    }
  },
  "cells": [
    {
      "cell_type": "markdown",
      "metadata": {
        "id": "view-in-github",
        "colab_type": "text"
      },
      "source": [
        "<a href=\"https://colab.research.google.com/github/karaage0703/ai-karaage-sensei-bot/blob/main/notebooks/hatenablog_to_text.ipynb\" target=\"_parent\"><img src=\"https://colab.research.google.com/assets/colab-badge.svg\" alt=\"Open In Colab\"/></a>"
      ]
    },
    {
      "cell_type": "markdown",
      "source": [
        "# はてなブログエクスポートデータのテキスト抽出"
      ],
      "metadata": {
        "id": "AcdK88OpKnsS"
      }
    },
    {
      "cell_type": "markdown",
      "source": [
        "Rubyインストール"
      ],
      "metadata": {
        "id": "PAsU8EMAMCf2"
      }
    },
    {
      "cell_type": "code",
      "source": [
        "!apt -qq install libtool libffi-dev ruby-full make\n",
        "!apt -qq install libzmq3-dev libczmq-dev\n",
        "!gem install ffi-rzmq\n",
        "!gem install specific_install\n",
        "!gem specific_install https://github.com/SciRuby/iruby\n",
        "!iruby register"
      ],
      "metadata": {
        "id": "yLSp-ifwQMvn"
      },
      "execution_count": null,
      "outputs": []
    },
    {
      "cell_type": "markdown",
      "source": [
        "Google Driveとの連携"
      ],
      "metadata": {
        "id": "Z9UZTm3-ROEp"
      }
    },
    {
      "cell_type": "code",
      "source": [
        "from google.colab import drive\n",
        "drive.mount('/content/drive')"
      ],
      "metadata": {
        "id": "R8Vu-4_-MGaW"
      },
      "execution_count": null,
      "outputs": []
    },
    {
      "cell_type": "markdown",
      "source": [
        "Google DriveからGoogle Colabへのデータコピー"
      ],
      "metadata": {
        "id": "9ufKV2dmRSU4"
      }
    },
    {
      "cell_type": "code",
      "source": [
        "!cp /content/drive/MyDrive/colab_data/karaage.hatenadiary.jp.export.txt ./"
      ],
      "metadata": {
        "id": "EYbS4YshMeMj"
      },
      "execution_count": null,
      "outputs": []
    },
    {
      "cell_type": "markdown",
      "source": [
        "変換スクリプトダウンロード"
      ],
      "metadata": {
        "id": "ElAsrx8SMEH3"
      }
    },
    {
      "cell_type": "code",
      "source": [
        "!wget https://raw.githubusercontent.com/karaage0703/scrapbox_chatgpt_connector/hatenablog/mt2json.rb\n",
        "!chmod 755 mt2json.rb"
      ],
      "metadata": {
        "id": "iGPyyaMmKjMu"
      },
      "execution_count": null,
      "outputs": []
    },
    {
      "cell_type": "markdown",
      "source": [
        "Movable Type形式からjson形式に変換"
      ],
      "metadata": {
        "id": "EPRl0pRkRWjb"
      }
    },
    {
      "cell_type": "code",
      "source": [
        "!ruby ./mt2json.rb karaage.hatenadiary.jp.export.txt > karaage.hatenadiary.jp.json"
      ],
      "metadata": {
        "id": "h_l11YISKmTx"
      },
      "execution_count": null,
      "outputs": []
    },
    {
      "cell_type": "markdown",
      "source": [
        "ファイルをGoogle Driveにコピー"
      ],
      "metadata": {
        "id": "olVF9A5NQ1IM"
      }
    },
    {
      "cell_type": "code",
      "source": [
        "!cp karaage.hatenadiary.jp.json /content/drive/MyDrive/colab_data/"
      ],
      "metadata": {
        "id": "5IOl4ZwpRZYl"
      },
      "execution_count": null,
      "outputs": []
    },
    {
      "cell_type": "markdown",
      "source": [
        "jsonをテキストに変換"
      ],
      "metadata": {
        "id": "nF83XDXKVxfm"
      }
    },
    {
      "cell_type": "code",
      "source": [
        "import json\n",
        "import re\n",
        "\n",
        "# Read JSON file\n",
        "with open(\"karaage.hatenadiary.jp.json\", \"r\", encoding=\"utf-8\") as json_file:\n",
        "    json_content = json.load(json_file)\n",
        "\n",
        "# Function to process and convert JSON content to text\n",
        "def json_to_flat_txt(json_content):\n",
        "    txt_content = \"\"\n",
        "    for key, value in json_content.items():\n",
        "        if isinstance(value, list):\n",
        "            txt_content += f\"{key}:\\n\"\n",
        "            for item in value:\n",
        "                txt_content += f\"- {item}\\n\"\n",
        "        else:\n",
        "            txt_content += f\"{key}: {value}\\n\"\n",
        "        txt_content += \"\\n\"\n",
        "\n",
        "    # Replace \\u3000 with a full-width space\n",
        "    txt_content = txt_content.replace(\"\\\\u3000\", \"　\")\n",
        "\n",
        "    # Remove the specified strings\n",
        "    remove_strings = [\"pages:\", \"- {'title':\", \"}\", \" 'lines':\", \"'\", \",\", \"[\", \"]\"]\n",
        "    for string in remove_strings:\n",
        "        txt_content = txt_content.replace(string, \"\")\n",
        "\n",
        "    # Remove HTML tags\n",
        "    txt_content = re.sub(r'<.*?>', '', txt_content)\n",
        "\n",
        "    return txt_content\n",
        "\n",
        "# Convert the JSON content to a flat text format, replace \\u3000 with full-width space, remove specific strings, and remove HTML tags\n",
        "flat_txt_content = json_to_flat_txt(json_content)\n",
        "\n",
        "# Save the text content to a .txt file\n",
        "with open(\"./blog_text.txt\", \"w\", encoding=\"utf-8\") as txt_file:\n",
        "    txt_file.write(flat_txt_content)"
      ],
      "metadata": {
        "id": "oZOi3zSI61QP"
      },
      "execution_count": null,
      "outputs": []
    },
    {
      "cell_type": "markdown",
      "source": [
        "ファイルのGoogle Driveへの移動"
      ],
      "metadata": {
        "id": "fSs686B77Ssk"
      }
    },
    {
      "cell_type": "code",
      "source": [
        "!cp blog_text.txt /content/drive/MyDrive/colab_data/"
      ],
      "metadata": {
        "id": "0kD_lgPfVVfx"
      },
      "execution_count": null,
      "outputs": []
    },
    {
      "cell_type": "markdown",
      "source": [
        "# 参考リンク\n",
        "- https://zenn.dev/karaage0703/articles/9bd40f2d3d1a76\n",
        "- https://zenn.dev/kun432/scraps/1a1c75cd4869ec\n",
        "- https://gist.github.com/ngoto/61459a11652826416d8f3ff9360f27c2"
      ],
      "metadata": {
        "id": "CzdJGXU8KtnV"
      }
    }
  ]
}